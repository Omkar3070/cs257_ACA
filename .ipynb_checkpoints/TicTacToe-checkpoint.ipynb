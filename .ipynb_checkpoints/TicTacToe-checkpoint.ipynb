{
 "cells": [
  {
   "cell_type": "code",
   "execution_count": 6,
   "metadata": {},
   "outputs": [],
   "source": [
    "game_board = {'1' : ' ', '2' : ' ', '3' : ' ',\n",
    "            '4' : ' ', '5' : ' ', '6' : ' ',\n",
    "            '7' : ' ', '8' : ' ', '9': ' '}\n",
    "\n",
    "board_keys = []\n",
    "\n",
    "for keys in game_board:\n",
    "    board_keys.append(keys)"
   ]
  },
  {
   "cell_type": "code",
   "execution_count": 7,
   "metadata": {},
   "outputs": [],
   "source": [
    "def printBoard(board):\n",
    "\n",
    "        print(board['1'] + '|' + board['2'] + '|' + board['3'])\n",
    "        print('-+-+-')\n",
    "        print(board['4'] + '|' + board['5'] + '|' + board['6'])\n",
    "        print('-+-+-')\n",
    "        print(board['7'] + '|' + board['8'] + '|' + board['9'])\n"
   ]
  },
  {
   "cell_type": "code",
   "execution_count": 8,
   "metadata": {},
   "outputs": [],
   "source": [
    "def userTurn(count, move, board):\n",
    "    if count % 2 != 0:\n",
    "        board[move] = 'X'\n",
    "    elif count % 2 == 0:\n",
    "        board[move] = 'O'\n",
    "    return board\n",
    "    "
   ]
  },
  {
   "cell_type": "code",
   "execution_count": 40,
   "metadata": {},
   "outputs": [],
   "source": [
    "def gameChecker(board):\n",
    "    if (board['1'] == board['2'] == board['3'] != ' '):\n",
    "        return (True, board['1'])\n",
    "    elif (board['4'] == board['5'] == board['6'] != ' '):\n",
    "        return (True, board['4'])\n",
    "    elif (board['7'] == board['8'] == board['9'] != ' '):\n",
    "        return (True, board['7'])\n",
    "    elif (board['1'] == board['4'] == board['7'] != ' '):\n",
    "        return (True, board['1'])\n",
    "    elif (board['2'] == board['5'] == board['8'] != ' '):\n",
    "        return (True, board['2'])\n",
    "    elif (board['3'] == board['6'] == board['9'] != ' '):\n",
    "        return (True, board['3'])\n",
    "    elif (board['1'] == board['5'] == board['9'] != ' '):\n",
    "        return (True, board['1'])\n",
    "    elif (board['3'] == board['5'] == board['7'] != ' '):\n",
    "        return (True, board['3'])\n",
    "    else:\n",
    "        return (False, 0)"
   ]
  },
  {
   "cell_type": "code",
   "execution_count": 41,
   "metadata": {},
   "outputs": [
    {
     "name": "stdout",
     "output_type": "stream",
     "text": [
      " | | \n",
      "-+-+-\n",
      " | | \n",
      "-+-+-\n",
      " | | \n",
      "1\n",
      "X| | \n",
      "-+-+-\n",
      " | | \n",
      "-+-+-\n",
      " | | \n",
      "2\n",
      "X|O| \n",
      "-+-+-\n",
      " | | \n",
      "-+-+-\n",
      " | | \n",
      "3\n",
      "X|O|X\n",
      "-+-+-\n",
      " | | \n",
      "-+-+-\n",
      " | | \n",
      "4\n",
      "X|O|X\n",
      "-+-+-\n",
      "O| | \n",
      "-+-+-\n",
      " | | \n",
      "5\n",
      "False\n",
      "X|O|X\n",
      "-+-+-\n",
      "O|X| \n",
      "-+-+-\n",
      " | | \n",
      "6\n",
      "False\n",
      "X|O|X\n",
      "-+-+-\n",
      "O|X|O\n",
      "-+-+-\n",
      " | | \n",
      "7\n",
      "True\n",
      "X|O|X\n",
      "-+-+-\n",
      "O|X|O\n",
      "-+-+-\n",
      "X| | \n",
      "The winner of the game is X\n"
     ]
    }
   ],
   "source": [
    "def main():\n",
    "\n",
    "    local_board = game_board.copy()\n",
    "\n",
    "    for i in range(10):\n",
    "        printBoard(local_board)\n",
    "        move = input()\n",
    "        local_board = userTurn(i+1, move, local_board)\n",
    "        if i >= 4:\n",
    "            check, box = gameChecker(local_board)\n",
    "            if check:\n",
    "                printBoard(local_board)\n",
    "                print('The winner of the game is', box)\n",
    "                break\n",
    "        \n",
    "\n",
    "\n",
    "if __name__ == \"__main__\":\n",
    "    main()"
   ]
  },
  {
   "cell_type": "markdown",
   "metadata": {},
   "source": [
    " "
   ]
  }
 ],
 "metadata": {
  "kernelspec": {
   "display_name": "Python 3",
   "language": "python",
   "name": "python3"
  },
  "language_info": {
   "codemirror_mode": {
    "name": "ipython",
    "version": 3
   },
   "file_extension": ".py",
   "mimetype": "text/x-python",
   "name": "python",
   "nbconvert_exporter": "python",
   "pygments_lexer": "ipython3",
   "version": "3.7.6"
  }
 },
 "nbformat": 4,
 "nbformat_minor": 4
}
